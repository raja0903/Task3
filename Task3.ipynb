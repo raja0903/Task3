{
 "cells": [
  {
   "cell_type": "markdown",
   "id": "2077ee6d",
   "metadata": {},
   "source": [
    "# importing required libraries"
   ]
  },
  {
   "cell_type": "code",
   "execution_count": 142,
   "id": "d8911ca0",
   "metadata": {},
   "outputs": [],
   "source": [
    "import mysql.connector # python module to connect with MySQL\n",
    "import pandas as pd # to read the dataset\n",
    "import numpy as np"
   ]
  },
  {
   "cell_type": "markdown",
   "id": "2523abf8",
   "metadata": {},
   "source": [
    "# importing dataset"
   ]
  },
  {
   "cell_type": "code",
   "execution_count": 187,
   "id": "2627da69",
   "metadata": {},
   "outputs": [
    {
     "data": {
      "text/plain": [
       "float"
      ]
     },
     "execution_count": 187,
     "metadata": {},
     "output_type": "execute_result"
    }
   ],
   "source": [
    "df=pd.read_csv('Twitter_Bio.csv',index_col=0)\n",
    "type(df.iloc[8][0])"
   ]
  },
  {
   "cell_type": "markdown",
   "id": "f930d928",
   "metadata": {},
   "source": [
    "# data-filtering"
   ]
  },
  {
   "cell_type": "code",
   "execution_count": 188,
   "id": "4f40d497",
   "metadata": {},
   "outputs": [],
   "source": [
    "# type of nan is coming so it is converted to string and replaced with ' ' in following for further handling.\n",
    "df['Bio']=df['Bio'].apply(lambda x:' ' if type(x)==float else x)\n",
    "df['Location']=df['Location'].apply(lambda x:' ' if type(x)==float else x)\n",
    "df['Website']=df['Website'].apply(lambda x:' ' if type(x)==float else x)"
   ]
  },
  {
   "cell_type": "code",
   "execution_count": 189,
   "id": "879138cd",
   "metadata": {},
   "outputs": [],
   "source": [
    "# initially data in remaining two columns was in string format having 'M','K' so it is converted to string and nan is replaced with -1.\n",
    "df['Following Count']=df['Following Count'].astype('str')\n",
    "df['Following Count']=df['Following Count'].apply(lambda x: \"\".join(x.split(',')))\n",
    "df['Following Count']=df['Following Count'].apply(lambda x :  float(x[:-1])*1000000 if 'M' in x else (float(x[:-1])*1000 if 'K' in x else ( -1 if 'nan' in x else float(x) ) ))"
   ]
  },
  {
   "cell_type": "code",
   "execution_count": 190,
   "id": "99e0ffde",
   "metadata": {},
   "outputs": [],
   "source": [
    "df['Followers Count']=df['Followers Count'].astype('str')\n",
    "df['Followers Count']=df['Followers Count'].apply(lambda x: \"\".join(x.split(',')))\n",
    "df['Followers Count']=df['Followers Count'].apply(lambda x :  float(x[:-1])*1000000 if 'M' in x else (float(x[:-1])*1000 if 'K' in x else ( -1 if 'nan' in x else float(x) ) ))"
   ]
  },
  {
   "cell_type": "code",
   "execution_count": 191,
   "id": "84135b31",
   "metadata": {},
   "outputs": [
    {
     "data": {
      "text/html": [
       "<div>\n",
       "<style scoped>\n",
       "    .dataframe tbody tr th:only-of-type {\n",
       "        vertical-align: middle;\n",
       "    }\n",
       "\n",
       "    .dataframe tbody tr th {\n",
       "        vertical-align: top;\n",
       "    }\n",
       "\n",
       "    .dataframe thead th {\n",
       "        text-align: right;\n",
       "    }\n",
       "</style>\n",
       "<table border=\"1\" class=\"dataframe\">\n",
       "  <thead>\n",
       "    <tr style=\"text-align: right;\">\n",
       "      <th></th>\n",
       "      <th>Bio</th>\n",
       "      <th>Following Count</th>\n",
       "      <th>Followers Count</th>\n",
       "      <th>Location</th>\n",
       "      <th>Website</th>\n",
       "    </tr>\n",
       "  </thead>\n",
       "  <tbody>\n",
       "    <tr>\n",
       "      <th>0</th>\n",
       "      <td>Providing Entertainment &amp; Travel to Commercial...</td>\n",
       "      <td>465.0</td>\n",
       "      <td>128.0</td>\n",
       "      <td>London, England</td>\n",
       "      <td>gtn.uk.com/index.php</td>\n",
       "    </tr>\n",
       "    <tr>\n",
       "      <th>1</th>\n",
       "      <td>#CrossingCultures</td>\n",
       "      <td>2.0</td>\n",
       "      <td>4800000.0</td>\n",
       "      <td>California</td>\n",
       "      <td>bit.ly/3ZdxRY3</td>\n",
       "    </tr>\n",
       "    <tr>\n",
       "      <th>2</th>\n",
       "      <td>Customs Broker</td>\n",
       "      <td>125.0</td>\n",
       "      <td>29.0</td>\n",
       "      <td>Florida, USA</td>\n",
       "      <td></td>\n",
       "    </tr>\n",
       "    <tr>\n",
       "      <th>3</th>\n",
       "      <td>A &amp; A Freight | Warehousing | Customs Brokerag...</td>\n",
       "      <td>4093.0</td>\n",
       "      <td>667.0</td>\n",
       "      <td>Worldwide</td>\n",
       "      <td>aacb.com</td>\n",
       "    </tr>\n",
       "    <tr>\n",
       "      <th>4</th>\n",
       "      <td>A commercial glass and glazing company serving...</td>\n",
       "      <td>91.0</td>\n",
       "      <td>76.0</td>\n",
       "      <td>Malden, MA</td>\n",
       "      <td>aawindowproducts.com</td>\n",
       "    </tr>\n",
       "    <tr>\n",
       "      <th>5</th>\n",
       "      <td>A&amp;B Kia is a Kia dealer in Benwood, WV. Stay c...</td>\n",
       "      <td>347.0</td>\n",
       "      <td>301.0</td>\n",
       "      <td>Benwood, West Virginia</td>\n",
       "      <td>aandbautosales.com</td>\n",
       "    </tr>\n",
       "    <tr>\n",
       "      <th>6</th>\n",
       "      <td>Industry leader in wholesale home decor, furni...</td>\n",
       "      <td>184.0</td>\n",
       "      <td>368.0</td>\n",
       "      <td>Rancho Cucamonga, CA</td>\n",
       "      <td>abhomeinc.com</td>\n",
       "    </tr>\n",
       "    <tr>\n",
       "      <th>7</th>\n",
       "      <td>From large format black &amp; white prints to the ...</td>\n",
       "      <td>125.0</td>\n",
       "      <td>137.0</td>\n",
       "      <td>Bentonville, AR</td>\n",
       "      <td>abrepro.com</td>\n",
       "    </tr>\n",
       "    <tr>\n",
       "      <th>8</th>\n",
       "      <td></td>\n",
       "      <td>-1.0</td>\n",
       "      <td>-1.0</td>\n",
       "      <td></td>\n",
       "      <td></td>\n",
       "    </tr>\n",
       "    <tr>\n",
       "      <th>9</th>\n",
       "      <td>A &amp; C CHRISTOFI LTD is a fast growing professi...</td>\n",
       "      <td>282.0</td>\n",
       "      <td>87.0</td>\n",
       "      <td>Cyprus</td>\n",
       "      <td>acccyp.com</td>\n",
       "    </tr>\n",
       "    <tr>\n",
       "      <th>10</th>\n",
       "      <td>Used Clothing Distributor</td>\n",
       "      <td>0.0</td>\n",
       "      <td>15.0</td>\n",
       "      <td>Carteret</td>\n",
       "      <td>aeclothing.net</td>\n",
       "    </tr>\n",
       "    <tr>\n",
       "      <th>11</th>\n",
       "      <td></td>\n",
       "      <td>-1.0</td>\n",
       "      <td>-1.0</td>\n",
       "      <td></td>\n",
       "      <td></td>\n",
       "    </tr>\n",
       "    <tr>\n",
       "      <th>12</th>\n",
       "      <td></td>\n",
       "      <td>1.0</td>\n",
       "      <td>38.0</td>\n",
       "      <td>Boulder, CO USA</td>\n",
       "      <td>ae-technologies.com</td>\n",
       "    </tr>\n",
       "    <tr>\n",
       "      <th>13</th>\n",
       "      <td>Create, manage and grow your business online w...</td>\n",
       "      <td>3716.0</td>\n",
       "      <td>419800.0</td>\n",
       "      <td>We're everywhere!</td>\n",
       "      <td>wix.com</td>\n",
       "    </tr>\n",
       "    <tr>\n",
       "      <th>14</th>\n",
       "      <td>A &amp; G Insurance prides itself on being your lo...</td>\n",
       "      <td>261.0</td>\n",
       "      <td>39.0</td>\n",
       "      <td>Connecticut</td>\n",
       "      <td>aginsuranceinc.com</td>\n",
       "    </tr>\n",
       "  </tbody>\n",
       "</table>\n",
       "</div>"
      ],
      "text/plain": [
       "                                                  Bio  Following Count  \\\n",
       "0   Providing Entertainment & Travel to Commercial...            465.0   \n",
       "1                                   #CrossingCultures              2.0   \n",
       "2                                      Customs Broker            125.0   \n",
       "3   A & A Freight | Warehousing | Customs Brokerag...           4093.0   \n",
       "4   A commercial glass and glazing company serving...             91.0   \n",
       "5   A&B Kia is a Kia dealer in Benwood, WV. Stay c...            347.0   \n",
       "6   Industry leader in wholesale home decor, furni...            184.0   \n",
       "7   From large format black & white prints to the ...            125.0   \n",
       "8                                                                 -1.0   \n",
       "9   A & C CHRISTOFI LTD is a fast growing professi...            282.0   \n",
       "10                          Used Clothing Distributor              0.0   \n",
       "11                                                                -1.0   \n",
       "12                                                                 1.0   \n",
       "13  Create, manage and grow your business online w...           3716.0   \n",
       "14  A & G Insurance prides itself on being your lo...            261.0   \n",
       "\n",
       "    Followers Count                 Location               Website  \n",
       "0             128.0          London, England  gtn.uk.com/index.php  \n",
       "1         4800000.0               California        bit.ly/3ZdxRY3  \n",
       "2              29.0             Florida, USA                        \n",
       "3             667.0                Worldwide              aacb.com  \n",
       "4              76.0               Malden, MA  aawindowproducts.com  \n",
       "5             301.0  Benwood, West Virginia     aandbautosales.com  \n",
       "6             368.0     Rancho Cucamonga, CA         abhomeinc.com  \n",
       "7             137.0          Bentonville, AR           abrepro.com  \n",
       "8              -1.0                                                 \n",
       "9              87.0                   Cyprus            acccyp.com  \n",
       "10             15.0                 Carteret        aeclothing.net  \n",
       "11             -1.0                                                 \n",
       "12             38.0          Boulder, CO USA   ae-technologies.com  \n",
       "13         419800.0        We're everywhere!               wix.com  \n",
       "14             39.0              Connecticut    aginsuranceinc.com  "
      ]
     },
     "execution_count": 191,
     "metadata": {},
     "output_type": "execute_result"
    }
   ],
   "source": [
    "df"
   ]
  },
  {
   "cell_type": "markdown",
   "id": "3592aa32",
   "metadata": {},
   "source": [
    "# creating and connecting database with MySQL"
   ]
  },
  {
   "cell_type": "code",
   "execution_count": 192,
   "id": "7e625085",
   "metadata": {},
   "outputs": [],
   "source": [
    "# connecting MySQL\n",
    "db=mysql.connector.connect(host='localhost',user='root',passwd='root')\n",
    "\n",
    "# creating database \n",
    "cur=db.cursor() # cur is object of cursor that helps interact with database\n",
    "cur.execute(\"Create Database Banao\")"
   ]
  },
  {
   "cell_type": "markdown",
   "id": "b77d7c80",
   "metadata": {},
   "source": [
    "# creating table as \"task3\""
   ]
  },
  {
   "cell_type": "code",
   "execution_count": 193,
   "id": "81de62cb",
   "metadata": {},
   "outputs": [],
   "source": [
    "db=mysql.connector.connect(host='localhost',user='root',passwd='root',database='Banao')\n",
    "cur=db.cursor()\n",
    "# creating table\n",
    "cur.execute(\"Create Table Task3(bio VARCHAR(255),following_count INT,followers_count INT,location VARCHAR(255),website VARCHAR(255))\")"
   ]
  },
  {
   "cell_type": "markdown",
   "id": "88d2d752",
   "metadata": {},
   "source": [
    "# data-entry into the table"
   ]
  },
  {
   "cell_type": "code",
   "execution_count": 194,
   "id": "d761c493",
   "metadata": {},
   "outputs": [
    {
     "name": "stdout",
     "output_type": "stream",
     "text": [
      "MySQL connection is closed\n"
     ]
    }
   ],
   "source": [
    "try:\n",
    "    for i in range(len(df)):\n",
    "        cv=tuple(df.iloc[i].values)\n",
    "        mySql_insert_query = f\"\"\"INSERT INTO Task3(Bio,following_count,followers_count,location,website) \n",
    "                               VALUES \n",
    "                               {cv}\"\"\"\n",
    "        cur.execute(mySql_insert_query)\n",
    "        db.commit()\n",
    "    cur.close()\n",
    "\n",
    "except mysql.connector.Error as error:\n",
    "    print(\"Failed to insert record into Task3 table {}\".format(error))\n",
    "\n",
    "finally:\n",
    "    if db.is_connected():\n",
    "        db.close()\n",
    "        print(\"MySQL connection is closed\")\n"
   ]
  },
  {
   "cell_type": "markdown",
   "id": "c05558c5",
   "metadata": {},
   "source": [
    "# fetching data from database"
   ]
  },
  {
   "cell_type": "code",
   "execution_count": 195,
   "id": "a5cd75c6",
   "metadata": {},
   "outputs": [
    {
     "name": "stdout",
     "output_type": "stream",
     "text": [
      "Total number of rows in table:  15\n",
      "Bio =  Providing Entertainment & Travel to Commercial Radio. Reaching 28.9M weekly listeners. Winners of The Arqiva National Sales Team of the Year 2010, 2011 & 2016\n",
      "website =  gtn.uk.com/index.php\n",
      "Bio =  #CrossingCultures\n",
      "website =  bit.ly/3ZdxRY3\n",
      "Bio =  Customs Broker\n",
      "website =   \n",
      "Bio =  A & A Freight | Warehousing | Customs Brokerage | Helping people ship across borders.\n",
      "website =  aacb.com\n",
      "Bio =  A commercial glass and glazing company serving the window industry in New England since 1954. \n",
      "website =  aawindowproducts.com\n",
      "Bio =  A&B Kia is a Kia dealer in Benwood, WV. Stay connected to exceed expectations. Build strong relationships. Drive the best with us.\n",
      "website =  aandbautosales.com\n",
      "Bio =  Industry leader in wholesale home decor, furniture, and garden, since 1993.\n",
      "website =  abhomeinc.com\n",
      "Bio =  From large format black & white prints to the most sophisticated of digital color printing jobs, A & B can get the job done right.\n",
      "website =  abrepro.com\n",
      "Bio =   \n",
      "website =   \n",
      "Bio =  A & C CHRISTOFI LTD is a fast growing professional services company based in Limassol, Cyprus. Our main Concern is your Business.\n",
      "website =  acccyp.com\n",
      "Bio =  Used Clothing Distributor\n",
      "website =  aeclothing.net\n",
      "Bio =   \n",
      "website =   \n",
      "Bio =   \n",
      "website =  ae-technologies.com\n",
      "Bio =  Create, manage and grow your business online with Wix. It’s more than just a website builder, it’s how your vision comes to life. For support: \n",
      "website =  wix.com\n",
      "Bio =  A & G Insurance prides itself on being your local, full service, Independent Insurance Agency.\n",
      "website =  aginsuranceinc.com\n"
     ]
    },
    {
     "data": {
      "text/plain": [
       "True"
      ]
     },
     "execution_count": 195,
     "metadata": {},
     "output_type": "execute_result"
    }
   ],
   "source": [
    "db = mysql.connector.connect(host='localhost',user='root',passwd='root',database='Banao')\n",
    "sql_select_Query = \"select * from Task3\"\n",
    "cur = db.cursor()\n",
    "cur.execute(sql_select_Query)\n",
    "    \n",
    "# get all records\n",
    "records = cur.fetchall()\n",
    "print(\"Total number of rows in table: \", cur.rowcount)\n",
    "\n",
    "for row in records:\n",
    "    print(\"Bio = \", row[0])\n",
    "    print(\"website = \", row[-1])\n",
    "        \n",
    "\n",
    "db.close()\n",
    "cur.close()"
   ]
  },
  {
   "cell_type": "code",
   "execution_count": null,
   "id": "c4927a22",
   "metadata": {},
   "outputs": [],
   "source": []
  }
 ],
 "metadata": {
  "kernelspec": {
   "display_name": "Python 3",
   "language": "python",
   "name": "python3"
  },
  "language_info": {
   "codemirror_mode": {
    "name": "ipython",
    "version": 3
   },
   "file_extension": ".py",
   "mimetype": "text/x-python",
   "name": "python",
   "nbconvert_exporter": "python",
   "pygments_lexer": "ipython3",
   "version": "3.8.8"
  }
 },
 "nbformat": 4,
 "nbformat_minor": 5
}
